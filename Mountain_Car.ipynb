{
 "cells": [
  {
   "cell_type": "code",
   "execution_count": 2,
   "id": "3efcc390-82b0-4349-8f2d-8a4d5ece4068",
   "metadata": {},
   "outputs": [],
   "source": [
    "import pandas as pd\n",
    "import numpy as np\n",
    "import gymnasium as gym\n",
    "from tqdm import tqdm"
   ]
  },
  {
   "cell_type": "code",
   "execution_count": 3,
   "id": "aa704b7c-58bd-47fe-b383-da03c0e50b06",
   "metadata": {},
   "outputs": [],
   "source": [
    "env = gym.make(id='MountainCar-v0')"
   ]
  },
  {
   "cell_type": "code",
   "execution_count": 4,
   "id": "a085ceba-b8a2-478a-ad66-5af69557966f",
   "metadata": {},
   "outputs": [],
   "source": [
    "pos = np.linspace(env.observation_space.low[0], env.observation_space.high[0],20)\n",
    "vel = np.linspace(env.observation_space.low[1], env.observation_space.high[1],20)"
   ]
  },
  {
   "cell_type": "code",
   "execution_count": 5,
   "id": "066ff4b3-cbce-47b0-bf91-eaa0fde87c85",
   "metadata": {
    "scrolled": true
   },
   "outputs": [],
   "source": [
    "q_table = np.zeros((len(pos), len(vel), env.action_space.n))\n",
    "ntrained=0"
   ]
  },
  {
   "cell_type": "code",
   "execution_count": 6,
   "id": "ae8484dd-6d0e-4aec-b8cc-b2dbb06945c1",
   "metadata": {},
   "outputs": [],
   "source": [
    "episodes = 5000\n",
    "epsilon = 1\n",
    "epsilon_decay = 2/episodes\n",
    "learning_rate = 0.8\n",
    "discount_factor = 0.8\n",
    "rewardEpisodes = np.zeros(episodes)"
   ]
  },
  {
   "cell_type": "code",
   "execution_count": 7,
   "id": "271deced-43cd-4e37-ab27-b7b8ca965ef4",
   "metadata": {},
   "outputs": [
    {
     "name": "stderr",
     "output_type": "stream",
     "text": [
      "Learning: 100%|\u001b[32m█████████████████████████████████████████████████████████████\u001b[0m| 5000/5000 [02:38<00:00, 31.65 Episodes/s]\u001b[0m\n"
     ]
    }
   ],
   "source": [
    "for i in tqdm(range(episodes), colour='GREEN', desc='Learning', unit=' Episodes'):\n",
    "    state=env.reset()[0]\n",
    "    p_state = np.digitize(state[0], pos)\n",
    "    v_state = np.digitize(state[1], vel)\n",
    "    terminated = False\n",
    "    rewards=0\n",
    "    while (not terminated  and rewards>-1000):\n",
    "        if np.random.random() < epsilon:\n",
    "            action = env.action_space.sample()\n",
    "        else:\n",
    "            action = np.argmax(q_table[p_state, v_state])\n",
    "        newstate,reward,terminated,_,_ = env.step(action)\n",
    "        new_p_state = np.digitize(newstate[0], pos)\n",
    "        new_v_state = np.digitize(newstate[1], vel)\n",
    "        q_table[p_state, v_state, action] = (1-learning_rate)*q_table[p_state, v_state, action] + learning_rate*(\n",
    "            reward + discount_factor*np.max(q_table[ new_p_state, new_v_state]))\n",
    "        p_state, v_state = new_p_state, new_v_state\n",
    "        rewards+=reward\n",
    "        \n",
    "    epsilon = max(epsilon - epsilon_decay,0)   \n",
    "    rewardEpisodes[i] = 1 \n",
    "    if epsilon == 0:\n",
    "        learning_rate = 0.0001\n",
    "# env.close()        \n",
    "        "
   ]
  },
  {
   "cell_type": "code",
   "execution_count": 8,
   "id": "8f680e5c-55ed-4887-b3a4-2702df49b15e",
   "metadata": {},
   "outputs": [],
   "source": [
    "env = gym.make(id='MountainCar-v0', render_mode='human')"
   ]
  },
  {
   "cell_type": "code",
   "execution_count": 9,
   "id": "d3b867e2-f897-454d-8abd-f1f7ddb1dae8",
   "metadata": {},
   "outputs": [],
   "source": [
    "for i in range(10):\n",
    "    state=env.reset()[0]\n",
    "    p_state = np.digitize(state[0], pos)\n",
    "    v_state = np.digitize(state[1], vel)\n",
    "    terminated = False\n",
    "    while (not terminated):\n",
    "        action = np.argmax(q_table[p_state, v_state])\n",
    "        newstate,reward,terminated,_,_ = env.step(action)\n",
    "        p_state = np.digitize(newstate[0], pos)\n",
    "        v_state = np.digitize(newstate[1], vel)\n",
    "env.close()"
   ]
  },
  {
   "cell_type": "code",
   "execution_count": null,
   "id": "995141ca-0607-4fbc-849e-d3564a40b659",
   "metadata": {},
   "outputs": [],
   "source": []
  }
 ],
 "metadata": {
  "kernelspec": {
   "display_name": "Python 3 (ipykernel)",
   "language": "python",
   "name": "python3"
  },
  "language_info": {
   "codemirror_mode": {
    "name": "ipython",
    "version": 3
   },
   "file_extension": ".py",
   "mimetype": "text/x-python",
   "name": "python",
   "nbconvert_exporter": "python",
   "pygments_lexer": "ipython3",
   "version": "3.11.7"
  }
 },
 "nbformat": 4,
 "nbformat_minor": 5
}
